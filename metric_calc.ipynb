{
 "cells": [
  {
   "cell_type": "markdown",
   "metadata": {},
   "source": [
    "# Импортируем библиотеки"
   ]
  },
  {
   "cell_type": "code",
   "execution_count": 107,
   "metadata": {},
   "outputs": [],
   "source": [
    "import pandas as pd\n",
    "import numpy as np"
   ]
  },
  {
   "cell_type": "markdown",
   "metadata": {},
   "source": [
    "# Вспомогательные функции расчетов"
   ]
  },
  {
   "cell_type": "code",
   "execution_count": 119,
   "metadata": {},
   "outputs": [],
   "source": [
    "def parse_segment(segment):\n",
    "    start, end = map(int, segment.split(\"-\"))\n",
    "    return start, end\n",
    "\n",
    "\n",
    "def iou(segment_q, segment_t):\n",
    "    start_q, stop_q = parse_segment(segment_q)\n",
    "    start_t, stop_t = parse_segment(segment_t)\n",
    "    \n",
    "    intersection_start = max(start_q, start_t)\n",
    "    intersection_end = min(stop_q, stop_t)\n",
    "\n",
    "    intersection_length = max(0, intersection_end - intersection_start)\n",
    "    union_length = (stop_q - start_q) + (stop_t - start_t) - intersection_length\n",
    "\n",
    "    iou = intersection_length / union_length if union_length > 0 else 0\n",
    "    return iou\n",
    "\n",
    "\n",
    "def f1(tp, fp, fn):\n",
    "    precision = tp / (tp + fp + 1e-6)\n",
    "    recall = tp / (tp + fn + 1e-6)\n",
    "    \n",
    "    print(f'Precision = {precision}')\n",
    "    print(f'Recall = {recall}')\n",
    "    \n",
    "    return 2 * (precision * recall) / (precision + recall + 1e-6)\n",
    "\n",
    "def final_metric(tp, fp, fn, final_iou):\n",
    "    f = f1(tp, fp, fn)\n",
    "    \n",
    "    print(f'IOU = {final_iou}')\n",
    "    \n",
    "    return 2 * (final_iou * f) / (final_iou + f + 1e-6)\n"
   ]
  },
  {
   "cell_type": "markdown",
   "metadata": {},
   "source": [
    "# Подгружаем свои данные"
   ]
  },
  {
   "cell_type": "code",
   "execution_count": 108,
   "metadata": {},
   "outputs": [],
   "source": [
    "orig, target = pd.read_csv('../orig_df.csv'), pd.read_csv('../target_df.csv')"
   ]
  },
  {
   "cell_type": "code",
   "execution_count": 109,
   "metadata": {},
   "outputs": [
    {
     "data": {
      "text/html": [
       "<div>\n",
       "<style scoped>\n",
       "    .dataframe tbody tr th:only-of-type {\n",
       "        vertical-align: middle;\n",
       "    }\n",
       "\n",
       "    .dataframe tbody tr th {\n",
       "        vertical-align: top;\n",
       "    }\n",
       "\n",
       "    .dataframe thead th {\n",
       "        text-align: right;\n",
       "    }\n",
       "</style>\n",
       "<table border=\"1\" class=\"dataframe\">\n",
       "  <thead>\n",
       "    <tr style=\"text-align: right;\">\n",
       "      <th></th>\n",
       "      <th>ID-piracy</th>\n",
       "      <th>SEG-piracy</th>\n",
       "      <th>ID-license</th>\n",
       "      <th>SEG-license</th>\n",
       "    </tr>\n",
       "  </thead>\n",
       "  <tbody>\n",
       "    <tr>\n",
       "      <th>0</th>\n",
       "      <td>id-1</td>\n",
       "      <td>3-21</td>\n",
       "      <td>id-3</td>\n",
       "      <td>10-30</td>\n",
       "    </tr>\n",
       "    <tr>\n",
       "      <th>1</th>\n",
       "      <td>id-1</td>\n",
       "      <td>45-60</td>\n",
       "      <td>id-8</td>\n",
       "      <td>150-165</td>\n",
       "    </tr>\n",
       "    <tr>\n",
       "      <th>2</th>\n",
       "      <td>id-2</td>\n",
       "      <td>15-35</td>\n",
       "      <td>id-5</td>\n",
       "      <td>10-30</td>\n",
       "    </tr>\n",
       "    <tr>\n",
       "      <th>3</th>\n",
       "      <td>id-4</td>\n",
       "      <td>145-300</td>\n",
       "      <td>id-8</td>\n",
       "      <td>1040-1195</td>\n",
       "    </tr>\n",
       "    <tr>\n",
       "      <th>4</th>\n",
       "      <td>id-4</td>\n",
       "      <td>0-19</td>\n",
       "      <td>id-8</td>\n",
       "      <td>1040-1195</td>\n",
       "    </tr>\n",
       "  </tbody>\n",
       "</table>\n",
       "</div>"
      ],
      "text/plain": [
       "  ID-piracy SEG-piracy ID-license SEG-license\n",
       "0      id-1       3-21       id-3       10-30\n",
       "1      id-1      45-60       id-8     150-165\n",
       "2      id-2      15-35       id-5       10-30\n",
       "3      id-4    145-300       id-8   1040-1195\n",
       "4      id-4       0-19       id-8   1040-1195"
      ]
     },
     "execution_count": 109,
     "metadata": {},
     "output_type": "execute_result"
    }
   ],
   "source": [
    "orig"
   ]
  },
  {
   "cell_type": "code",
   "execution_count": 110,
   "metadata": {},
   "outputs": [
    {
     "data": {
      "text/plain": [
       "{('id-1', 'id-3'): 1,\n",
       " ('id-1', 'id-8'): 1,\n",
       " ('id-2', 'id-5'): 1,\n",
       " ('id-4', 'id-8'): 2}"
      ]
     },
     "execution_count": 110,
     "metadata": {},
     "output_type": "execute_result"
    }
   ],
   "source": [
    "orig_dict = orig.groupby(['ID-piracy', 'ID-license']).count().to_dict()['SEG-piracy']\n",
    "orig_dict"
   ]
  },
  {
   "cell_type": "code",
   "execution_count": 111,
   "metadata": {},
   "outputs": [
    {
     "data": {
      "text/html": [
       "<div>\n",
       "<style scoped>\n",
       "    .dataframe tbody tr th:only-of-type {\n",
       "        vertical-align: middle;\n",
       "    }\n",
       "\n",
       "    .dataframe tbody tr th {\n",
       "        vertical-align: top;\n",
       "    }\n",
       "\n",
       "    .dataframe thead th {\n",
       "        text-align: right;\n",
       "    }\n",
       "</style>\n",
       "<table border=\"1\" class=\"dataframe\">\n",
       "  <thead>\n",
       "    <tr style=\"text-align: right;\">\n",
       "      <th></th>\n",
       "      <th>ID-piracy</th>\n",
       "      <th>SEG-piracy</th>\n",
       "      <th>ID-license</th>\n",
       "      <th>SEG-license</th>\n",
       "    </tr>\n",
       "  </thead>\n",
       "  <tbody>\n",
       "    <tr>\n",
       "      <th>0</th>\n",
       "      <td>id-1</td>\n",
       "      <td>0-25</td>\n",
       "      <td>id-3</td>\n",
       "      <td>10-35</td>\n",
       "    </tr>\n",
       "    <tr>\n",
       "      <th>1</th>\n",
       "      <td>id-1</td>\n",
       "      <td>12-25</td>\n",
       "      <td>id-3</td>\n",
       "      <td>100-115</td>\n",
       "    </tr>\n",
       "    <tr>\n",
       "      <th>2</th>\n",
       "      <td>id-2</td>\n",
       "      <td>0-12</td>\n",
       "      <td>id-8</td>\n",
       "      <td>132-144</td>\n",
       "    </tr>\n",
       "    <tr>\n",
       "      <th>3</th>\n",
       "      <td>id-7</td>\n",
       "      <td>85-110</td>\n",
       "      <td>id-10</td>\n",
       "      <td>30-65</td>\n",
       "    </tr>\n",
       "    <tr>\n",
       "      <th>4</th>\n",
       "      <td>id-4</td>\n",
       "      <td>120-250</td>\n",
       "      <td>id-8</td>\n",
       "      <td>1000-1130</td>\n",
       "    </tr>\n",
       "    <tr>\n",
       "      <th>5</th>\n",
       "      <td>id-1</td>\n",
       "      <td>120-250</td>\n",
       "      <td>id-10</td>\n",
       "      <td>1000-1130</td>\n",
       "    </tr>\n",
       "  </tbody>\n",
       "</table>\n",
       "</div>"
      ],
      "text/plain": [
       "  ID-piracy SEG-piracy ID-license SEG-license\n",
       "0      id-1       0-25       id-3       10-35\n",
       "1      id-1      12-25       id-3     100-115\n",
       "2      id-2       0-12       id-8     132-144\n",
       "3      id-7     85-110      id-10       30-65\n",
       "4      id-4    120-250       id-8   1000-1130\n",
       "5      id-1    120-250      id-10   1000-1130"
      ]
     },
     "execution_count": 111,
     "metadata": {},
     "output_type": "execute_result"
    }
   ],
   "source": [
    "target"
   ]
  },
  {
   "cell_type": "code",
   "execution_count": 112,
   "metadata": {},
   "outputs": [
    {
     "data": {
      "text/plain": [
       "{('id-1', 'id-10'): 1,\n",
       " ('id-1', 'id-3'): 2,\n",
       " ('id-2', 'id-8'): 1,\n",
       " ('id-4', 'id-8'): 1,\n",
       " ('id-7', 'id-10'): 1}"
      ]
     },
     "execution_count": 112,
     "metadata": {},
     "output_type": "execute_result"
    }
   ],
   "source": [
    "target_dict = target.groupby(['ID-piracy', 'ID-license']).count().to_dict()['SEG-piracy']\n",
    "target_dict"
   ]
  },
  {
   "cell_type": "markdown",
   "metadata": {},
   "source": [
    "# Подсчет FP, TP, FN"
   ]
  },
  {
   "cell_type": "code",
   "execution_count": 113,
   "metadata": {},
   "outputs": [
    {
     "name": "stdout",
     "output_type": "stream",
     "text": [
      "4 3 2\n"
     ]
    }
   ],
   "source": [
    "fn = 0\n",
    "fp = 0\n",
    "tp = 0\n",
    "\n",
    "for ids, count in orig_dict.items():\n",
    "    if ids not in target_dict:\n",
    "        fn += count # модель не нашла что то из оригинальной таблицы\n",
    "    elif target_dict[ids] > count:\n",
    "        fp += target_dict[ids] - count # модель нашла больше совпадений чем в оригинальной таблице\n",
    "        tp += min(target_dict[ids], count) # тогда для истинных совпадений совпадений берем наименьшее количество\n",
    "    elif target_dict[ids] < count:\n",
    "        fn += count - target_dict[ids] # модель нашла меньше совпадений чем в оригинальной таблице\n",
    "        tp += min(target_dict[ids], count) # тогда для истинных совпадений совпадений берем наименьшее количество\n",
    "\n",
    "for ids, count in target_dict.items():\n",
    "    if ids not in orig_dict:\n",
    "        fp += count # модель нашла то, чего не было в оригинальной таблице\n",
    "\n",
    "print(fp, fn, tp)"
   ]
  },
  {
   "cell_type": "markdown",
   "metadata": {},
   "source": [
    "# Подсчет IOU"
   ]
  },
  {
   "cell_type": "code",
   "execution_count": 97,
   "metadata": {},
   "outputs": [],
   "source": [
    "ious = []\n",
    "\n",
    "# Подсчет IOU для каждой отдельной строки из orig\n",
    "for i, row in orig.iterrows():\n",
    "    max_iou = 0\n",
    "    merged = pd.merge(\n",
    "        row.to_frame().T,\n",
    "        target,\n",
    "        'left',\n",
    "        left_on=['ID-piracy', 'ID-license'],\n",
    "        right_on = ['ID-piracy', 'ID-license']\n",
    "    ).dropna()\n",
    "    \n",
    "    # Выбор наилучшего IOU по всем совпадениям из target\n",
    "    if len(merged) > 0:\n",
    "        for j, row1 in merged.iterrows():\n",
    "            final_iou = iou(row1['SEG-piracy_x'], row1['SEG-piracy_y']) * iou(row1['SEG-license_x'], row1['SEG-license_y'])\n",
    "            if final_iou > max_iou:\n",
    "                max_iou = final_iou\n",
    "    \n",
    "    ious.append(max_iou)"
   ]
  },
  {
   "cell_type": "code",
   "execution_count": 98,
   "metadata": {},
   "outputs": [
    {
     "data": {
      "text/plain": [
       "[0.576, 0, 0, 0.2692307692307693, 0]"
      ]
     },
     "execution_count": 98,
     "metadata": {},
     "output_type": "execute_result"
    }
   ],
   "source": [
    "ious"
   ]
  },
  {
   "cell_type": "code",
   "execution_count": 115,
   "metadata": {},
   "outputs": [
    {
     "name": "stdout",
     "output_type": "stream",
     "text": [
      "Precision = 0.33333327777778704\n",
      "Recall = 0.399999920000016\n",
      "F1 = 0.3636358016535793\n"
     ]
    }
   ],
   "source": [
    "print(f'F1 = {f1(tp, fp, fn)}')"
   ]
  },
  {
   "cell_type": "code",
   "execution_count": 116,
   "metadata": {},
   "outputs": [
    {
     "name": "stdout",
     "output_type": "stream",
     "text": [
      "IOU = 0.09391452991452992\n"
     ]
    }
   ],
   "source": [
    "final_iou = sum(ious) / (len(ious) + fp) # чтобы учесть количество лишних в IOU добавим в знаменатель их количество (так как их IOU = 0)\n",
    "print(f'IOU = {final_iou}')"
   ]
  },
  {
   "cell_type": "code",
   "execution_count": 121,
   "metadata": {},
   "outputs": [
    {
     "name": "stdout",
     "output_type": "stream",
     "text": [
      "Precision = 0.33333327777778704\n",
      "Recall = 0.399999920000016\n",
      "IOU = 0.09391452991452992\n",
      "Metric = 0.1492758648755265\n"
     ]
    }
   ],
   "source": [
    "print(f'Metric = {final_metric(tp, fp, fn, final_iou)}')"
   ]
  }
 ],
 "metadata": {
  "kernelspec": {
   "display_name": ".venv",
   "language": "python",
   "name": "python3"
  },
  "language_info": {
   "codemirror_mode": {
    "name": "ipython",
    "version": 3
   },
   "file_extension": ".py",
   "mimetype": "text/x-python",
   "name": "python",
   "nbconvert_exporter": "python",
   "pygments_lexer": "ipython3",
   "version": "3.11.8"
  },
  "orig_nbformat": 4
 },
 "nbformat": 4,
 "nbformat_minor": 2
}
